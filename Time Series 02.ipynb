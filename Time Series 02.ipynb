{
 "cells": [
  {
   "cell_type": "markdown",
   "id": "ffca45cb-7e0e-465c-9377-60c6a825503b",
   "metadata": {},
   "source": [
    "<div style=\"background-color: #d948ad; padding: 10px; border-radius: 10px; text-align: center;\">\n",
    "  <h1>Time Series 02</h1>\n",
    "</div>"
   ]
  },
  {
   "cell_type": "markdown",
   "id": "8cf7afff-73c3-4dbd-8d81-62ed46ac6c1e",
   "metadata": {},
   "source": [
    "# Q1. What is meant by time-dependent seasonal components?"
   ]
  },
  {
   "cell_type": "markdown",
   "id": "1da3e55f-ef73-4bf6-af14-57ffc30dd088",
   "metadata": {},
   "source": [
    "Season is a one of the component of the time series, which is the key point of the time dependent analysis. Season is considerd as the a cycle of the datapoint in a specific time stamp. Time stamp is reffered to the repation of time sclaes as minute, hours, day , months and years ..etc. So the in a graph of data over the time ,one wave in a certain time stamp, which is repted on that time stamp has been considers as season.\n",
    "\n",
    "For the example , we can say the season to the sell of icecreams in a winter or the traffic data at 5 pm. Which means if we compute the 5 pm traffic data of 10 days. Then it has 10 seasons with respect of each day."
   ]
  },
  {
   "cell_type": "markdown",
   "id": "87baeec1-7329-404a-b323-a92e2144b51f",
   "metadata": {},
   "source": [
    "# Q2. How can time-dependent seasonal components be identified in time series data?"
   ]
  },
  {
   "cell_type": "markdown",
   "id": "efe171ba-9c0c-4c55-b5fe-4e72d729348a",
   "metadata": {},
   "source": [
    "There are sevral ways to identify the seasonal component in time series . Some of them are below :\n",
    "\n",
    "**Visual Inspection:** We can see the curves or waves which are seems to identical and while keeping in mind the time stamp we can know the seasonal component.\n",
    "\n",
    "**Seasonal Subseries Plot:** Create subseries plots by grouping data points based on the seasons or time intervals. Examine the subseries plots to identify any consistent patterns across different seasons.\n",
    "\n",
    "**Autocorrelation Function (ACF) and Partial Autocorrelation Function (PACF):**\n",
    "\n",
    "We can Calculate the autocorrelation function and partial autocorrelation function of the time series data. Peaks in the ACF and PACF at lags corresponding to the seasonal frequency can indicate the presence of seasonal patterns."
   ]
  },
  {
   "cell_type": "markdown",
   "id": "a38ee2f7-4bb2-48b7-bd5d-3330a3a13fb5",
   "metadata": {},
   "source": [
    "# Q3. What are the factors that can influence time-dependent seasonal components?"
   ]
  },
  {
   "cell_type": "markdown",
   "id": "332a4288-7e77-4fcc-a5d7-6b2ceb8c8c27",
   "metadata": {},
   "source": [
    "Seasonal component can be influenced by sevral factores which are outsider and beyond to our analysis. These factors are ; \n",
    "- Speech of a Famous Personality\n",
    "- Budget of Goverment\n",
    "- Natural Tregdy\n",
    "- wars and conflicts\n",
    "- Weather and climate\n",
    "- Holiday and special events \n",
    "- Agricultural Cycle\n",
    "- Tourist Seasons\n",
    "- Socail and cultural Practices \n",
    "- Technology changes\n"
   ]
  },
  {
   "cell_type": "markdown",
   "id": "042132c6-ae02-406c-a53c-bb50fc980c11",
   "metadata": {},
   "source": [
    "# Q4. How are autoregression models used in time series analysis and forecasting?"
   ]
  },
  {
   "cell_type": "markdown",
   "id": "bc12a937-c480-4c63-b6d0-d5de1026cbb8",
   "metadata": {},
   "source": [
    "Once the model is validated, it can be used for forecasting future values.\n",
    "To make one-step-ahead forecasts, use the estimated model parameters and the most recent observed values to predict the next value in the time series.\n",
    "To make multi-step-ahead forecasts, recursively use the model to predict future values, updating the input data with the predicted values at each step."
   ]
  },
  {
   "cell_type": "markdown",
   "id": "1a3912ae-4863-4377-bf11-622255c50959",
   "metadata": {},
   "source": [
    "# Q5. How do you use autoregression models to make predictions for future time points?"
   ]
  },
  {
   "cell_type": "markdown",
   "id": "7ffe9589-34e9-43b7-a739-88cb529c37e7",
   "metadata": {},
   "source": [
    "When we are done from all previous steps as model slection,model estimation and after that model validation. Then our model will prepare  to make predictions for future time points, which can be classifiend in two senarios;\n",
    "\n",
    "**For one-step-ahead forecasting:**\n",
    "\n",
    "In this we use the estimated model parameters and the most recent observed value to predict the next value in the time series.\n",
    "\n",
    "**For multi-step-ahead forecasting:**\n",
    "\n",
    "In this senraio we recursively apply the model to predict each future time point, updating the input data with the predicted values at each step."
   ]
  },
  {
   "cell_type": "markdown",
   "id": "9968bb9d-ae6a-4aae-9942-16384eb9c130",
   "metadata": {},
   "source": [
    "# Q6. What is a moving average (MA) model and how does it differ from other time series models?"
   ]
  },
  {
   "cell_type": "markdown",
   "id": "3fc6670d-045b-43c2-b648-d8ab2ad3a412",
   "metadata": {},
   "source": [
    "Moving avrage is nothing but an advance version of the avrage, which is used to smoothen the data so we can capture the trend from a crucial data. In other words the trends which are made by simple avrage are in a zik zak form, to read or reconize such patterns may difficult for us so in such a case we using moving avrage which makes the data somthen and easy for us. There are type of moving avarages :\n",
    "- simple moving avrage\n",
    "- Exponential moving avrage\n",
    "\n",
    "moving average models are valuable for their simplicity and ability to smooth out fluctuations, but the choice of a specific time series model depends on the characteristics of the data and the goals of the analysis. ARIMA models, in particular, are widely used for more comprehensive time series forecasting and analysis."
   ]
  },
  {
   "cell_type": "markdown",
   "id": "668f0103-2eda-4c3b-9c4d-83e73527a46d",
   "metadata": {},
   "source": [
    "# Q7. What is a mixed ARMA model and how does it differ from an AR or MA model?"
   ]
  },
  {
   "cell_type": "markdown",
   "id": "f2f6c47c-4c88-4388-bb11-4b30a7a364c1",
   "metadata": {},
   "source": [
    "A mixed AutoRegressive Moving Average (ARMA) model is a combination of both Autoregressive (AR) and Moving Average (MA) components in a time series analysis. The ARMA model is denoted as ARMA(p, q), where \"p\" is the order of the AR component and \"q\" is the order of the MA component.\n",
    "while AR models focus on predicting future values based on past observations, MA models focus on predicting future values based on past forecast errors. The ARMA model combines both aspects, allowing for a more flexible and comprehensive approach to modeling time series data. The choice of parameters (p and q) depends on the specific characteristics of the time series being analyzed. "
   ]
  }
 ],
 "metadata": {
  "kernelspec": {
   "display_name": "Python 3 (ipykernel)",
   "language": "python",
   "name": "python3"
  },
  "language_info": {
   "codemirror_mode": {
    "name": "ipython",
    "version": 3
   },
   "file_extension": ".py",
   "mimetype": "text/x-python",
   "name": "python",
   "nbconvert_exporter": "python",
   "pygments_lexer": "ipython3",
   "version": "3.10.8"
  }
 },
 "nbformat": 4,
 "nbformat_minor": 5
}
